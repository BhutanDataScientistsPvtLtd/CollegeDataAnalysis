{
 "cells": [
  {
   "cell_type": "code",
   "execution_count": null,
   "metadata": {},
   "outputs": [],
   "source": [
    "import numpy as np\n",
    "np.random.seed(123)  # for reproducibility\n",
    "\n",
    "from keras.models import Sequential\n",
    "# imported a sequential model type that is a linear stack of neural network layers.\n",
    "from keras.layers import Dense, Dropout, Activation, Flatten\n",
    "#these cores layers are used in almost any neural network\n",
    "from keras.layers import Convolution2D, MaxPooling2D\n",
    "# these are CNN layers that will help to train on image data\n",
    "from keras.utils import np_utils\n",
    "#importing utilities will help to transform the data\n",
    "from keras.datasets import mnist\n",
    "\n",
    "# Load pre-shuffled MNIST data into train and test sets\n",
    "(X_train, y_train), (X_test, y_test) = mnist.load_data()\n",
    "\n",
    "print X_train.shape\n",
    "# (60000, 28, 28)\n",
    "from matplotlib import pyplot as plt\n",
    "plt.imshow(X_train[0])"
   ]
  }
 ],
 "metadata": {
  "kernelspec": {
   "display_name": "Python 2",
   "language": "python",
   "name": "python2"
  },
  "language_info": {
   "codemirror_mode": {
    "name": "ipython",
    "version": 2
   },
   "file_extension": ".py",
   "mimetype": "text/x-python",
   "name": "python",
   "nbconvert_exporter": "python",
   "pygments_lexer": "ipython2",
   "version": "2.7.14"
  }
 },
 "nbformat": 4,
 "nbformat_minor": 2
}
